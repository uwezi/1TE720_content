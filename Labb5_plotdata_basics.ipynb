{
 "cells": [
  {
   "attachments": {},
   "cell_type": "markdown",
   "metadata": {},
   "source": [
    "# Grafritning med data i skriptfilen\n",
    "Vad kan vi göra med `matplotlib` och hur kan vi inkludera mätdata i vårt skript?\n",
    "\n",
    "Först några bibliotek som ska inkluderas:"
   ]
  },
  {
   "cell_type": "code",
   "execution_count": null,
   "metadata": {},
   "outputs": [],
   "source": [
    "import numpy as np\n",
    "from matplotlib import pyplot as plt\n",
    "from matplotlib import markers as markers\n",
    "%matplotlib inline\n",
    "plt.rcParams['figure.figsize'] = [16, 9]\n",
    "import ipywidgets as widgets\n",
    "from ipywidgets import interact"
   ]
  },
  {
   "attachments": {},
   "cell_type": "markdown",
   "metadata": {},
   "source": [
    "Biblioteket `io` innehåller funktionen `StringIO` som vi behöver"
   ]
  },
  {
   "cell_type": "code",
   "execution_count": null,
   "metadata": {},
   "outputs": [],
   "source": [
    "from io import StringIO"
   ]
  },
  {
   "attachments": {},
   "cell_type": "markdown",
   "metadata": {},
   "source": [
    "Det följande blocket innehåller mätdata i form av fyra kolumner:\n",
    "\n",
    "1. x-värden\n",
    "2. y-värden\n",
    "3. mätosäkerhet i x\n",
    "4. mätosäkerhet i y"
   ]
  },
  {
   "cell_type": "code",
   "execution_count": null,
   "metadata": {},
   "outputs": [],
   "source": [
    "datafile = StringIO(\\\n",
    "'''\n",
    "-0.01  0.063  0.10  0.000\n",
    " 0.51  0.297  0.10  0.013\n",
    " 1.06  0.804  0.10  0.050\n",
    " 1.53  2.189  0.10  0.113\n",
    " 1.88  4.069  0.10  0.200\n",
    " 2.48  6.243  0.10  0.312\n",
    " 2.94  9.091  0.10  0.450\n",
    " 3.45 12.303  0.10  0.613\n",
    " 4.01 16.079  0.10  0.800\n",
    " 4.41 20.212  0.10  1.012\n",
    " 5.23 25.060  0.10  1.250\n",
    " 5.38 30.215  0.10  1.513\n",
    " 5.97 36.121  0.10  1.800\n",
    " 6.66 41.957  0.10  2.113\n",
    " 7.08 48.867  0.10  2.450\n",
    " 7.56 56.299  0.10  2.812\n",
    " 7.88 63.906  0.10  3.200\n",
    " 8.67 72.213  0.10  3.613\n",
    " 8.98 81.196  0.10  4.050\n",
    " 9.41 90.252  0.10  4.513\n",
    "''')"
   ]
  },
  {
   "attachments": {},
   "cell_type": "markdown",
   "metadata": {},
   "source": [
    "Funktionen `loadtxt()` från biblioteket `numpy` ger oss möjligheten att ladda in data från en textfil eller från ett textblock som här. "
   ]
  },
  {
   "cell_type": "code",
   "execution_count": null,
   "metadata": {},
   "outputs": [],
   "source": [
    "x, y, dx, dy = np.loadtxt(datafile, unpack=True)"
   ]
  },
  {
   "attachments": {},
   "cell_type": "markdown",
   "metadata": {},
   "source": [
    "Vi kan först göra en snabb ritning för att se hur datan ser ut. <br>\n",
    "Standardvärden från `matplotlib` ger oss en linjegraf:"
   ]
  },
  {
   "cell_type": "code",
   "execution_count": null,
   "metadata": {},
   "outputs": [],
   "source": [
    "fig, ax = plt.subplots()\n",
    "ax.plot(x,y)"
   ]
  },
  {
   "attachments": {},
   "cell_type": "markdown",
   "metadata": {},
   "source": [
    "Biblioteket `matplotlib` har ett antal olika symboler för att markera datapunkter i en graf. Den finns även tillgänglig som en Python _dictionary_, dock med _value_ och _key_ i omvänd ordning vad jag vill ha näst. "
   ]
  },
  {
   "cell_type": "code",
   "execution_count": null,
   "metadata": {},
   "outputs": [],
   "source": [
    "markerdict = {value:key for key, value in markers.MarkerStyle.markers.items()} \n",
    "print(markers.MarkerStyle.markers)\n",
    "print(\"\\nblir istället\\n\")\n",
    "print(markerdict)"
   ]
  },
  {
   "attachments": {},
   "cell_type": "markdown",
   "metadata": {},
   "source": [
    "Nu blir vi interaktiva - här kan du testa olika inställningar i `matplotlib`s vanliga `.plot()`-kommando. "
   ]
  },
  {
   "cell_type": "code",
   "execution_count": null,
   "metadata": {},
   "outputs": [],
   "source": [
    "style= {'description_width': '150px'}\n",
    "layout= {'width': '50%'}\n",
    "@interact\n",
    "def _(\n",
    "    pltfacecolor    = widgets.ColorPicker(description=\"bakgrundsfärg\", value=\"white\", style=style, layout=layout),\n",
    "    figfacecolor    = widgets.ColorPicker(description=\"yttre bakgrundsfärg\", value=\"white\", style=style, layout=layout),\n",
    "    color           = widgets.ColorPicker(description=\"färg\", value=\"blue\", style=style, layout=layout),\n",
    "    linestyle       = widgets.Dropdown(description=\"typ av linje\", options={\"heldragen\":\"-\",\"streckad\":\"--\",\"streck med punkt\":\"-.\",\"punkterad\":\":\",\"ingen linje\":\"\"}, size=1, style=style, layout=layout),\n",
    "    linewidth       = widgets.IntSlider(description=\"linjebredd\", value=1, min=0, max=10, continuous_update=False, style=style, layout=layout),\n",
    "    marker          = widgets.Dropdown(description=\"markör\", options=markerdict, style=style, layout=layout),\n",
    "    markersize      = widgets.IntSlider(description=\"storlek av markören\",value=10, min=1, max=100, continuous_update=False, style=style, layout=layout),\n",
    "    markerfacecolor = widgets.ColorPicker(description=\"färg på markören\", claue=\"red\", style=style, layout=layout),\n",
    "    markeredgewidth = widgets.IntSlider(description=\"rand på markören\", value=10, min=1, max=100, continuous_update=False, style=style, layout=layout),\n",
    "    markeredgecolor = widgets.ColorPicker(description=\"färg av randen\", value=\"blue\", style=style, layout=layout),\n",
    "    ticktextsize    = widgets.IntSlider(description=\"textstorlek siffror\",value=18, min=5, max=100, continuous_update=False, style=style, layout=layout),\n",
    "    axeslabels      = widgets.Checkbox(value=False, description=\"visa text på axlarna\", style=style, layout=layout),\n",
    "    labelsize       = widgets.IntSlider(description=\"textstorlek axeltext\",value=18, min=5, max=100, continuous_update=False, style=style, layout=layout),\n",
    "    ):\n",
    "    print(f\"\"\"# Följande kommando(n) ger oss grafen nedan:\n",
    "\n",
    "    fig, ax = plt.subplots()\n",
    "    ax.xaxis.set_tick_params(labelsize={ticktextsize})\n",
    "    ax.yaxis.set_tick_params(labelsize={ticktextsize})\n",
    "    fig.set_facecolor(color=\"{figfacecolor}\")\n",
    "    ax.set_facecolor(color=\"{pltfacecolor}\")\n",
    "\n",
    "    ax.plot( \n",
    "        x, y, \n",
    "        color = \"{color}\", \n",
    "        linestyle = \"{linestyle}\", \n",
    "        linewidth = {linewidth}, \n",
    "        marker = \"{marker}\", \n",
    "        markersize = {markersize},\n",
    "        markerfacecolor = \"{markerfacecolor}\", \n",
    "        markeredgecolor = \"{markeredgecolor}\", \n",
    "        markeredgewidth = {markeredgewidth},     \n",
    "    )\"\"\")\n",
    "\n",
    "    fig, ax = plt.subplots()\n",
    "    ax.xaxis.set_tick_params(labelsize=ticktextsize)\n",
    "    ax.yaxis.set_tick_params(labelsize=ticktextsize)\n",
    "    fig.set_facecolor(color=figfacecolor)\n",
    "    ax.set_facecolor(color=pltfacecolor)\n",
    "    ax.plot(\n",
    "        x, y,\n",
    "        color = color, \n",
    "        linestyle = linestyle, \n",
    "        linewidth = linewidth, \n",
    "        marker = marker, \n",
    "        markersize = markersize,\n",
    "        markerfacecolor = markerfacecolor, \n",
    "        markeredgecolor = markeredgecolor, \n",
    "        markeredgewidth = markeredgewidth,\n",
    "    )   \n",
    "    if axeslabels:\n",
    "        ax.set_xlabel('text på x-axeln [enhet]', fontsize=labelsize)\n",
    "        ax.set_ylabel('text på y-axeln [enhet]', fontsize=labelsize)\n",
    "        print(\n",
    "            f\"    ax.set_xlabel('text på x-axeln [enhet]', fontsize={labelsize})\\n\"\n",
    "            f\"    ax.set_ylabel('text på y-axeln [enhet]', fontsize={labelsize})\"\n",
    "        )\n",
    "    plt.show()\n",
   ]
  },
  {
   "attachments": {},
   "cell_type": "markdown",
   "metadata": {},
   "source": [
    "Utöver `plot()` finns även kommandon som direkt skapar grafer med logaritmiska axlar."
   ]
  },
  {
   "attachments": {},
   "cell_type": "markdown",
   "metadata": {},
   "source": [
    "### `semilogy` - en logaritmisk y-axel och en linjär x-axel\n",
    "Vi kommer använda den här typen av graf speciellt i Labb 6 när vi analyserar ett exponentiellt beroende."
   ]
  },
  {
   "cell_type": "code",
   "execution_count": null,
   "metadata": {},
   "outputs": [],
   "source": [
    "fig, ax = plt.subplots()\n",
    "ax.xaxis.set_tick_params(labelsize=18)\n",
    "ax.yaxis.set_tick_params(labelsize=18)\n",
    "ax.semilogy(\n",
    "    x, y,\n",
    "    color = \"blue\", \n",
    "    linestyle = \"-\", \n",
    "    linewidth = 3, \n",
    "    marker = \"+\", \n",
    "    markersize = 15,\n",
    ")   "
   ]
  },
  {
   "attachments": {},
   "cell_type": "markdown",
   "metadata": {},
   "source": [
    "### `semilogx` - en logaritmisk x-axel och en linjär y-axel\n",
    "Vi har sett denna typ av plot när vi mätte på och räknade med våra filterkretsar. Där hade vi frekvensen på den logaritmiska x-axeln."
   ]
  },
  {
   "cell_type": "code",
   "execution_count": null,
   "metadata": {},
   "outputs": [],
   "source": [
    "fig, ax = plt.subplots()\n",
    "ax.xaxis.set_tick_params(labelsize=18)\n",
    "ax.yaxis.set_tick_params(labelsize=18)\n",
    "ax.semilogx(\n",
    "    x, y,\n",
    "    color = \"blue\", \n",
    "    linestyle = \"-\", \n",
    "    linewidth = 3, \n",
    "    marker = \"+\", \n",
    "    markersize = 15,\n",
    ")   "
   ]
  },
  {
   "attachments": {},
   "cell_type": "markdown",
   "metadata": {},
   "source": [
    "### `loglog` - en logaritmisk x-axel och en logaritmisk y-axel"
   ]
  },
  {
   "cell_type": "code",
   "execution_count": null,
   "metadata": {},
   "outputs": [],
   "source": [
    "fig, ax = plt.subplots()\n",
    "ax.xaxis.set_tick_params(labelsize=18)\n",
    "ax.yaxis.set_tick_params(labelsize=18)\n",
    "ax.loglog(\n",
    "    x, y,\n",
    "    color = \"blue\", \n",
    "    linestyle =\"-\", \n",
    "    linewidth = 3, \n",
    "    marker = \"+\", \n",
    "    markersize = 15,\n",
    ")   "
   ]
  },
  {
   "attachments": {},
   "cell_type": "markdown",
   "metadata": {},
   "source": [
    "## Felmarginaler\n",
    "Våra datapunkter ovan kom med värden i `x` och `y`, men även med felmarginaler `dx` och `dy` för varje mätpunkt. Dass kan visualiseras med hjälp av plot-funktionen `errorbars()`. Obs att den första parametern är `dy` eftersom det är vanligt att enbart visa ett fel i y-riktningen. "
   ]
  },
  {
   "cell_type": "code",
   "execution_count": null,
   "metadata": {},
   "outputs": [],
   "source": [
    "@interact\n",
    "def _(\n",
    "    plot_dx = widgets.Checkbox(value=True, description=\"visa fel Δx\"),\n",
    "    plot_dy = widgets.Checkbox(value=True, description=\"visa fel Δy\"),\n",
    "    ):\n",
    "    print(\"\"\"# Följande kommando(n) ger oss grafen nedan:\n",
    "\n",
    "    fig, ax = plt.subplots()\n",
    "    ax.xaxis.set_tick_params(labelsize=18)\n",
    "    ax.yaxis.set_tick_params(labelsize=18)\n",
    "    ax.errorbar(\n",
    "        x, y, {:s}, {:s},\n",
    "        color = \"blue\", \n",
    "        linestyle = \"\", \n",
    "        marker = \".\",\n",
    "    )\"\"\".format(\"dy\" if plot_dy else \"None\",\"dx\" if plot_dx else \"None\"))   \n",
    "\n",
    "    fig, ax = plt.subplots()\n",
    "    ax.xaxis.set_tick_params(labelsize=18)\n",
    "    ax.yaxis.set_tick_params(labelsize=18)\n",
    "    ax.errorbar(\n",
    "        x, y, dy if plot_dy else None, dx if plot_dx else None,\n",
    "        color = \"blue\", \n",
    "        linestyle = \"\", \n",
    "        marker = \".\"\n",
    "    )",
    "    plt.show()\n",
   ]
  }
 ],
 "metadata": {
  "kernelspec": {
   "display_name": "Python 3",
   "language": "python",
   "name": "python3"
  },
  "language_info": {
   "codemirror_mode": {
    "name": "ipython",
    "version": 3
   },
   "file_extension": ".py",
   "mimetype": "text/x-python",
   "name": "python",
   "nbconvert_exporter": "python",
   "pygments_lexer": "ipython3",
   "version": "3.9.8"
  },
  "orig_nbformat": 4,
  "vscode": {
   "interpreter": {
    "hash": "c85a162d7e6feb9ce7a63b9e0bf7bb0701e25096002d986edf763ed39e4d2885"
   }
  }
 },
 "nbformat": 4,
 "nbformat_minor": 2
}
